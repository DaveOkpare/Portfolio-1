{
 "cells": [
  {
   "cell_type": "markdown",
   "metadata": {},
   "source": [
    "# Topic Modelling with Latent Dirichlet Allocation\n"
   ]
  },
  {
   "cell_type": "markdown",
   "metadata": {},
   "source": [
    "http://scikit-learn.org/stable/modules/decomposition.html#latentdirichletallocation\n",
    "\n",
    "http://brooksandrew.github.io/simpleblog/articles/latent-dirichlet-allocation-under-the-hood/"
   ]
  },
  {
   "cell_type": "code",
   "execution_count": 1,
   "metadata": {},
   "outputs": [],
   "source": [
    "import matplotlib.pyplot as plt\n",
    "%matplotlib inline\n",
    "import pandas as pd\n",
    "import numpy as np\n",
    "\n",
    "from sklearn.feature_extraction.text import CountVectorizer\n",
    "from sklearn.model_selection import train_test_split\n",
    "from sklearn.decomposition import LatentDirichletAllocation"
   ]
  },
  {
   "cell_type": "code",
   "execution_count": 2,
   "metadata": {},
   "outputs": [],
   "source": [
    "tc = pd.read_csv('C:\\\\Users\\\\harri\\\\.kaggle\\\\competitions\\\\jigsaw-toxic-comment-classification-challenge\\\\train.csv\\\\train.csv')\n",
    "tc = tc.drop('id', axis = 1)\n",
    "X = tc.iloc[:,0]\n",
    "y = tc.iloc[:, 1:]\n",
    "X_train, X_test, y_train, y_test = train_test_split(X, y, test_size =0.2)"
   ]
  },
  {
   "cell_type": "code",
   "execution_count": 3,
   "metadata": {},
   "outputs": [
    {
     "data": {
      "text/plain": [
       "(159571,)"
      ]
     },
     "execution_count": 3,
     "metadata": {},
     "output_type": "execute_result"
    }
   ],
   "source": [
    "X.shape"
   ]
  },
  {
   "cell_type": "code",
   "execution_count": 4,
   "metadata": {},
   "outputs": [
    {
     "name": "stdout",
     "output_type": "stream",
     "text": [
      "Done with vectorizer.\n",
      "Done with LDA.\n",
      "Topic #0: wikipedia page help talk http pages place wiki links new com hope like ask www hello site message org question\n",
      "Topic #1: hi english doing language category people warning american moron political die sucks german area yeah country jewish india million countries\n",
      "Topic #2: just don like know think people time ve good really way make say talk ll thanks right want going did\n",
      "Topic #3: page talk edit wikipedia user wp edits discussion blocked editing stop block editors personal vandalism editor admin ip policy consensus\n",
      "Topic #4: article section added list references continue articles better reference did information support needs tell given add written comment pages case\n",
      "Topic #5: sources source reliable war information instead hate care research left book correct faggot color background claim facts books 100 published\n",
      "Topic #6: fuck lol shit fucking dont oh nigger fat jew nice bit bitch got ban dog 21 dick im debate mother\n",
      "Topic #7: used world account term use states does history word state called sentence new changed years group aids different known official\n",
      "Topic #8: utc year 10 2005 new news 2006 god 20 came obviously old 12 11 2007 15 2008 years views 2004\n",
      "Topic #9: page article wikipedia deletion image use deleted talk welcome articles tag thank copyright speedy add thanks notable remove fair note\n",
      "\n"
     ]
    }
   ],
   "source": [
    "n_samples = 159571\n",
    "n_features = 4000\n",
    "n_components = 10\n",
    "n_top_words = 20\n",
    "\n",
    "\n",
    "def print_top_words(model, feature_names, n_top_words):\n",
    "    for topic_idx, topic in enumerate(model.components_):\n",
    "        message = \"Topic #%d: \" % topic_idx\n",
    "        message += \" \".join([feature_names[i]\n",
    "                             for i in topic.argsort()[:-n_top_words - 1:-1]])\n",
    "        print(message)\n",
    "    print()\n",
    "\n",
    "\n",
    "    \n",
    "count = CountVectorizer(max_df = 0.90, min_df = 2, max_features = n_features, stop_words = 'english')\n",
    "\n",
    "\n",
    "tf = count.fit_transform(X)\n",
    "count_feature_names = count.get_feature_names()\n",
    "print('Done with vectorizer.')\n",
    "\n",
    "lda = LatentDirichletAllocation(n_components = n_components, max_iter = 5, learning_method = 'online')\n",
    "lda.fit(tf)\n",
    "print('Done with LDA.')\n",
    "\n",
    "\n",
    "print_top_words(lda, count_feature_names, n_top_words)"
   ]
  },
  {
   "cell_type": "code",
   "execution_count": 5,
   "metadata": {},
   "outputs": [
    {
     "data": {
      "text/plain": [
       "\"Explanation\\nWhy the edits made under my username Hardcore Metallica Fan were reverted? They weren't vandalisms, just closure on some GAs after I voted at New York Dolls FAC. And please don't remove the template from the talk page since I'm retired now.89.205.38.27\""
      ]
     },
     "execution_count": 5,
     "metadata": {},
     "output_type": "execute_result"
    }
   ],
   "source": [
    "X.iloc[0]"
   ]
  }
 ],
 "metadata": {
  "kernelspec": {
   "display_name": "Python 3",
   "language": "python",
   "name": "python3"
  },
  "language_info": {
   "codemirror_mode": {
    "name": "ipython",
    "version": 3
   },
   "file_extension": ".py",
   "mimetype": "text/x-python",
   "name": "python",
   "nbconvert_exporter": "python",
   "pygments_lexer": "ipython3",
   "version": "3.6.4"
  }
 },
 "nbformat": 4,
 "nbformat_minor": 2
}
