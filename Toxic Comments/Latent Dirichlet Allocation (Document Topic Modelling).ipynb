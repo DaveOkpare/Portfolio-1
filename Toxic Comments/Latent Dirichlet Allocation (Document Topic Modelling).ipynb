{
 "cells": [
  {
   "cell_type": "markdown",
   "metadata": {},
   "source": [
    "# Topic Modelling with Latent Dirichlet Allocation\n",
    "Collect discrete datasets such as text corpora."
   ]
  },
  {
   "cell_type": "markdown",
   "metadata": {},
   "source": [
    "http://scikit-learn.org/stable/modules/decomposition.html#latentdirichletallocation"
   ]
  },
  {
   "cell_type": "code",
   "execution_count": 1,
   "metadata": {
    "collapsed": true
   },
   "outputs": [],
   "source": [
    "import matplotlib.pyplot as plt\n",
    "%matplotlib inline\n",
    "import pandas as pd\n",
    "import numpy as np\n",
    "\n",
    "from sklearn.feature_extraction.text import CountVectorizer\n",
    "from sklearn.model_selection import train_test_split\n",
    "from sklearn.decomposition import LatentDirichletAllocation"
   ]
  },
  {
   "cell_type": "code",
   "execution_count": 2,
   "metadata": {
    "collapsed": true
   },
   "outputs": [],
   "source": [
    "tc = pd.read_csv('C:\\\\Users\\\\Harrison\\\\.kaggle\\\\competitions\\\\jigsaw-toxic-comment-classification-challenge\\\\train.csv\\\\train.csv')\n",
    "tc = tc.drop('id', axis = 1)\n",
    "X = tc.iloc[:,0]\n",
    "y = tc.iloc[:, 1:]\n",
    "X_train, X_test, y_train, y_test = train_test_split(X, y, test_size =0.2)"
   ]
  },
  {
   "cell_type": "code",
   "execution_count": 3,
   "metadata": {},
   "outputs": [
    {
     "data": {
      "text/plain": [
       "(159571,)"
      ]
     },
     "execution_count": 3,
     "metadata": {},
     "output_type": "execute_result"
    }
   ],
   "source": [
    "X.shape"
   ]
  },
  {
   "cell_type": "code",
   "execution_count": 3,
   "metadata": {},
   "outputs": [
    {
     "name": "stdout",
     "output_type": "stream",
     "text": [
      "Done with vectorizer.\n",
      "Done with LDA.\n",
      "Topic #0: image use wikipedia copyright fair english images language page media jpg gay picture file free ass used anti obviously deleted\n",
      "Topic #1: article wikipedia page articles wp deletion talk information discussion deleted sources links subject content add section policy think editors note\n",
      "Topic #2: ve just don like say lol mean time know thing said good does evidence doesn really support right maybe correct\n",
      "Topic #3: user block utc blocked vandalism ip oh post stop mind warning users edits pretty 24 published moron account 2007 2006\n",
      "Topic #4: fuck hate shit fucking suck faggot nigger stupid aids jew music 15 bitch dog black dick interested million eat cock\n",
      "Topic #5: years old day work year new left things time world think list god 20 later came live british called didn\n",
      "Topic #6: page wikipedia talk thanks edit editing pages help thank hi like user welcome hope edits want work ask use question\n",
      "Topic #7: just people don think like know way going wiki make did really want sorry right admin say trying time personal\n",
      "Topic #8: article source http com sources section used point www org state term states book reference does fact view history original\n",
      "Topic #9: case let know style did getting continue review tell 2005 stuff color background response 100 remember sucks vandalize saw edit\n",
      "\n"
     ]
    }
   ],
   "source": [
    "n_samples = 159571\n",
    "n_features = 4000\n",
    "n_components = 10\n",
    "n_top_words = 20\n",
    "\n",
    "\n",
    "def print_top_words(model, feature_names, n_top_words):\n",
    "    for topic_idx, topic in enumerate(model.components_):\n",
    "        message = \"Topic #%d: \" % topic_idx\n",
    "        message += \" \".join([feature_names[i]\n",
    "                             for i in topic.argsort()[:-n_top_words - 1:-1]])\n",
    "        print(message)\n",
    "    print()\n",
    "\n",
    "\n",
    "    \n",
    "count = CountVectorizer(max_df = 0.90, min_df = 2, max_features = n_features, stop_words = 'english')\n",
    "\n",
    "\n",
    "tf = count.fit_transform(X)\n",
    "count_feature_names = count.get_feature_names()\n",
    "print('Done with vectorizer.')\n",
    "\n",
    "lda = LatentDirichletAllocation(n_components = n_components, max_iter = 5, learning_method = 'online')\n",
    "lda.fit(tf)\n",
    "print('Done with LDA.')\n",
    "\n",
    "\n",
    "print_top_words(lda, count_feature_names, n_top_words)"
   ]
  }
 ],
 "metadata": {
  "kernelspec": {
   "display_name": "Python 3",
   "language": "python",
   "name": "python3"
  },
  "language_info": {
   "codemirror_mode": {
    "name": "ipython",
    "version": 3
   },
   "file_extension": ".py",
   "mimetype": "text/x-python",
   "name": "python",
   "nbconvert_exporter": "python",
   "pygments_lexer": "ipython3",
   "version": "3.6.3"
  }
 },
 "nbformat": 4,
 "nbformat_minor": 2
}
